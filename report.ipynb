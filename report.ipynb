{
 "cells": [
  {
   "cell_type": "markdown",
   "id": "8d0f3932",
   "metadata": {},
   "source": [
    "# Management Half Year Report"
   ]
  },
  {
   "cell_type": "code",
   "execution_count": 1,
   "id": "ea484373",
   "metadata": {},
   "outputs": [],
   "source": [
    "import pandas as pd\n",
    "import numpy as np\n",
    "import matplotlib.pyplot as plt \n",
    "import src.io_utils as io\n",
    "from src.ecommerce import EcommerceAnalyzer \n",
    "import src.metrics as M\n",
    "import src.viz as V  "
   ]
  },
  {
   "cell_type": "code",
   "execution_count": 2,
   "id": "b29ebc5b",
   "metadata": {},
   "outputs": [],
   "source": [
    "df = io.df\n",
    "df_clean = EcommerceAnalyzer(df).clean_df()\n",
    "df_clean_month = EcommerceAnalyzer(df_clean).add_month()\n"
   ]
  },
  {
   "cell_type": "code",
   "execution_count": 3,
   "id": "bf20913f",
   "metadata": {},
   "outputs": [
    {
     "data": {
      "text/html": [
       "<div>\n",
       "<style scoped>\n",
       "    .dataframe tbody tr th:only-of-type {\n",
       "        vertical-align: middle;\n",
       "    }\n",
       "\n",
       "    .dataframe tbody tr th {\n",
       "        vertical-align: top;\n",
       "    }\n",
       "\n",
       "    .dataframe thead th {\n",
       "        text-align: right;\n",
       "    }\n",
       "</style>\n",
       "<table border=\"1\" class=\"dataframe\">\n",
       "  <thead>\n",
       "    <tr style=\"text-align: right;\">\n",
       "      <th></th>\n",
       "      <th>category</th>\n",
       "      <th>total_intäkt</th>\n",
       "    </tr>\n",
       "  </thead>\n",
       "  <tbody>\n",
       "    <tr>\n",
       "      <th>0</th>\n",
       "      <td>Beauty</td>\n",
       "      <td>163053.97</td>\n",
       "    </tr>\n",
       "    <tr>\n",
       "      <th>1</th>\n",
       "      <td>Clothing</td>\n",
       "      <td>586744.91</td>\n",
       "    </tr>\n",
       "    <tr>\n",
       "      <th>2</th>\n",
       "      <td>Electronics</td>\n",
       "      <td>1364228.07</td>\n",
       "    </tr>\n",
       "    <tr>\n",
       "      <th>3</th>\n",
       "      <td>Home</td>\n",
       "      <td>511070.87</td>\n",
       "    </tr>\n",
       "    <tr>\n",
       "      <th>4</th>\n",
       "      <td>Sports</td>\n",
       "      <td>734653.42</td>\n",
       "    </tr>\n",
       "    <tr>\n",
       "      <th>5</th>\n",
       "      <td>Toys</td>\n",
       "      <td>143015.99</td>\n",
       "    </tr>\n",
       "  </tbody>\n",
       "</table>\n",
       "</div>"
      ],
      "text/plain": [
       "      category  total_intäkt\n",
       "0       Beauty     163053.97\n",
       "1     Clothing     586744.91\n",
       "2  Electronics    1364228.07\n",
       "3         Home     511070.87\n",
       "4       Sports     734653.42\n",
       "5         Toys     143015.99"
      ]
     },
     "execution_count": 3,
     "metadata": {},
     "output_type": "execute_result"
    }
   ],
   "source": [
    "M.revenue_per_category(df_clean)"
   ]
  },
  {
   "cell_type": "code",
   "execution_count": 4,
   "id": "c5ed2ba6",
   "metadata": {},
   "outputs": [
    {
     "data": {
      "text/plain": [
       "np.int64(7463)"
      ]
     },
     "execution_count": 4,
     "metadata": {},
     "output_type": "execute_result"
    }
   ],
   "source": [
    "M.total_units(df_clean)"
   ]
  },
  {
   "cell_type": "code",
   "execution_count": 5,
   "id": "720e62e9",
   "metadata": {},
   "outputs": [
    {
     "data": {
      "text/plain": [
       "category\n",
       "Electronics    1364228\n",
       "Sports          734653\n",
       "Clothing        586745\n",
       "Name: revenue, dtype: int64"
      ]
     },
     "execution_count": 5,
     "metadata": {},
     "output_type": "execute_result"
    }
   ],
   "source": [
    "M.top_categories(df_clean, n=3)"
   ]
  },
  {
   "cell_type": "code",
   "execution_count": 6,
   "id": "9f624f08",
   "metadata": {},
   "outputs": [
    {
     "name": "stdout",
     "output_type": "stream",
     "text": [
      "Average order value, AOV: 1401, Standardavvikelse: 1167\n"
     ]
    }
   ],
   "source": [
    "print(f\"Average order value, AOV: {M.aov(df_clean):.0f}, Standardavvikelse: {M.aov_varians(df_clean):.0f}\")"
   ]
  },
  {
   "cell_type": "code",
   "execution_count": 7,
   "id": "fa8ceeae",
   "metadata": {},
   "outputs": [
    {
     "data": {
      "text/html": [
       "<div>\n",
       "<style scoped>\n",
       "    .dataframe tbody tr th:only-of-type {\n",
       "        vertical-align: middle;\n",
       "    }\n",
       "\n",
       "    .dataframe tbody tr th {\n",
       "        vertical-align: top;\n",
       "    }\n",
       "\n",
       "    .dataframe thead th {\n",
       "        text-align: right;\n",
       "    }\n",
       "</style>\n",
       "<table border=\"1\" class=\"dataframe\">\n",
       "  <thead>\n",
       "    <tr style=\"text-align: right;\">\n",
       "      <th></th>\n",
       "      <th>city</th>\n",
       "      <th>total_intäkt</th>\n",
       "    </tr>\n",
       "  </thead>\n",
       "  <tbody>\n",
       "    <tr>\n",
       "      <th>0</th>\n",
       "      <td>Göteborg</td>\n",
       "      <td>859019.65</td>\n",
       "    </tr>\n",
       "    <tr>\n",
       "      <th>1</th>\n",
       "      <td>Malmö</td>\n",
       "      <td>567926.32</td>\n",
       "    </tr>\n",
       "    <tr>\n",
       "      <th>2</th>\n",
       "      <td>Stockholm</td>\n",
       "      <td>1227201.94</td>\n",
       "    </tr>\n",
       "    <tr>\n",
       "      <th>3</th>\n",
       "      <td>Uppsala</td>\n",
       "      <td>551478.42</td>\n",
       "    </tr>\n",
       "    <tr>\n",
       "      <th>4</th>\n",
       "      <td>Västerås</td>\n",
       "      <td>297140.90</td>\n",
       "    </tr>\n",
       "  </tbody>\n",
       "</table>\n",
       "</div>"
      ],
      "text/plain": [
       "        city  total_intäkt\n",
       "0   Göteborg     859019.65\n",
       "1      Malmö     567926.32\n",
       "2  Stockholm    1227201.94\n",
       "3    Uppsala     551478.42\n",
       "4   Västerås     297140.90"
      ]
     },
     "execution_count": 7,
     "metadata": {},
     "output_type": "execute_result"
    }
   ],
   "source": [
    "M.revenue_per_city(df_clean)"
   ]
  },
  {
   "cell_type": "code",
   "execution_count": 8,
   "id": "064482dc",
   "metadata": {},
   "outputs": [
    {
     "data": {
      "text/html": [
       "<div>\n",
       "<style scoped>\n",
       "    .dataframe tbody tr th:only-of-type {\n",
       "        vertical-align: middle;\n",
       "    }\n",
       "\n",
       "    .dataframe tbody tr th {\n",
       "        vertical-align: top;\n",
       "    }\n",
       "\n",
       "    .dataframe thead th {\n",
       "        text-align: right;\n",
       "    }\n",
       "</style>\n",
       "<table border=\"1\" class=\"dataframe\">\n",
       "  <thead>\n",
       "    <tr style=\"text-align: right;\">\n",
       "      <th></th>\n",
       "      <th>month</th>\n",
       "      <th>intäkt</th>\n",
       "    </tr>\n",
       "  </thead>\n",
       "  <tbody>\n",
       "    <tr>\n",
       "      <th>0</th>\n",
       "      <td>1</td>\n",
       "      <td>664083.32</td>\n",
       "    </tr>\n",
       "    <tr>\n",
       "      <th>1</th>\n",
       "      <td>2</td>\n",
       "      <td>548462.03</td>\n",
       "    </tr>\n",
       "    <tr>\n",
       "      <th>2</th>\n",
       "      <td>3</td>\n",
       "      <td>487602.00</td>\n",
       "    </tr>\n",
       "    <tr>\n",
       "      <th>3</th>\n",
       "      <td>4</td>\n",
       "      <td>580194.83</td>\n",
       "    </tr>\n",
       "    <tr>\n",
       "      <th>4</th>\n",
       "      <td>5</td>\n",
       "      <td>632165.16</td>\n",
       "    </tr>\n",
       "    <tr>\n",
       "      <th>5</th>\n",
       "      <td>6</td>\n",
       "      <td>590259.89</td>\n",
       "    </tr>\n",
       "  </tbody>\n",
       "</table>\n",
       "</div>"
      ],
      "text/plain": [
       "   month     intäkt\n",
       "0      1  664083.32\n",
       "1      2  548462.03\n",
       "2      3  487602.00\n",
       "3      4  580194.83\n",
       "4      5  632165.16\n",
       "5      6  590259.89"
      ]
     },
     "execution_count": 8,
     "metadata": {},
     "output_type": "execute_result"
    }
   ],
   "source": [
    "M.change_over_time(df_clean_month)"
   ]
  },
  {
   "cell_type": "code",
   "execution_count": 9,
   "id": "f8f95a0d",
   "metadata": {},
   "outputs": [
    {
     "name": "stdout",
     "output_type": "stream",
     "text": [
      "Rader med ovanlig revenue:\n"
     ]
    },
    {
     "name": "stderr",
     "output_type": "stream",
     "text": [
      "c:\\Users\\Lenovo\\Gruppuppgift\\src\\metrics.py:73: FutureWarning: The default of observed=False is deprecated and will be changed to True in a future version of pandas. Pass observed=False to retain current behavior or observed=True to adopt the future default and silence this warning.\n",
      "  grupper = df.groupby(grupp)[kolumn].sum()\n"
     ]
    },
    {
     "data": {
      "text/html": [
       "<div>\n",
       "<style scoped>\n",
       "    .dataframe tbody tr th:only-of-type {\n",
       "        vertical-align: middle;\n",
       "    }\n",
       "\n",
       "    .dataframe tbody tr th {\n",
       "        vertical-align: top;\n",
       "    }\n",
       "\n",
       "    .dataframe thead th {\n",
       "        text-align: right;\n",
       "    }\n",
       "</style>\n",
       "<table border=\"1\" class=\"dataframe\">\n",
       "  <thead>\n",
       "    <tr style=\"text-align: right;\">\n",
       "      <th></th>\n",
       "      <th>order_id</th>\n",
       "      <th>date</th>\n",
       "      <th>city</th>\n",
       "      <th>category</th>\n",
       "      <th>price</th>\n",
       "      <th>units</th>\n",
       "      <th>revenue</th>\n",
       "    </tr>\n",
       "  </thead>\n",
       "  <tbody>\n",
       "    <tr>\n",
       "      <th>45</th>\n",
       "      <td>100045</td>\n",
       "      <td>2024-06-17</td>\n",
       "      <td>Västerås</td>\n",
       "      <td>Sports</td>\n",
       "      <td>1052.08</td>\n",
       "      <td>6</td>\n",
       "      <td>6312.48</td>\n",
       "    </tr>\n",
       "    <tr>\n",
       "      <th>53</th>\n",
       "      <td>100053</td>\n",
       "      <td>2024-05-18</td>\n",
       "      <td>Stockholm</td>\n",
       "      <td>Electronics</td>\n",
       "      <td>1033.02</td>\n",
       "      <td>4</td>\n",
       "      <td>4132.08</td>\n",
       "    </tr>\n",
       "    <tr>\n",
       "      <th>57</th>\n",
       "      <td>100057</td>\n",
       "      <td>2024-06-04</td>\n",
       "      <td>Malmö</td>\n",
       "      <td>Electronics</td>\n",
       "      <td>1393.58</td>\n",
       "      <td>3</td>\n",
       "      <td>4180.74</td>\n",
       "    </tr>\n",
       "    <tr>\n",
       "      <th>68</th>\n",
       "      <td>100068</td>\n",
       "      <td>2024-02-13</td>\n",
       "      <td>Göteborg</td>\n",
       "      <td>Electronics</td>\n",
       "      <td>1003.34</td>\n",
       "      <td>5</td>\n",
       "      <td>5016.70</td>\n",
       "    </tr>\n",
       "    <tr>\n",
       "      <th>72</th>\n",
       "      <td>100072</td>\n",
       "      <td>2024-02-26</td>\n",
       "      <td>Stockholm</td>\n",
       "      <td>Electronics</td>\n",
       "      <td>968.62</td>\n",
       "      <td>6</td>\n",
       "      <td>5811.72</td>\n",
       "    </tr>\n",
       "  </tbody>\n",
       "</table>\n",
       "</div>"
      ],
      "text/plain": [
       "    order_id       date       city     category    price  units  revenue\n",
       "45    100045 2024-06-17   Västerås       Sports  1052.08      6  6312.48\n",
       "53    100053 2024-05-18  Stockholm  Electronics  1033.02      4  4132.08\n",
       "57    100057 2024-06-04      Malmö  Electronics  1393.58      3  4180.74\n",
       "68    100068 2024-02-13   Göteborg  Electronics  1003.34      5  5016.70\n",
       "72    100072 2024-02-26  Stockholm  Electronics   968.62      6  5811.72"
      ]
     },
     "metadata": {},
     "output_type": "display_data"
    },
    {
     "name": "stdout",
     "output_type": "stream",
     "text": [
      "\n",
      "Kategorier med ovanlig intäkt:\n",
      "Inga kategorier med ovanlig intäkt\n",
      "\n",
      "Städer med ovanlig intäkt:\n",
      "Inga städer med ovanlig intäkt\n"
     ]
    }
   ],
   "source": [
    "revenue_outliers, high_revenue_categories, high_revenue_cities = M.summarize_outliers(df_clean)\n",
    "print(\"Rader med ovanlig revenue:\")\n",
    "display(revenue_outliers.head())\n",
    "\n",
    "print(\"\\nKategorier med ovanlig intäkt:\")\n",
    "if high_revenue_categories.empty:\n",
    "    print (\"Inga kategorier med ovanlig intäkt\")\n",
    "else:\n",
    "    print(high_revenue_categories)\n",
    "    \n",
    "print(\"\\nStäder med ovanlig intäkt:\") \n",
    "if high_revenue_cities.empty:\n",
    "    print (\"Inga städer med ovanlig intäkt\")\n",
    "else:\n",
    "    print(high_revenue_cities)"
   ]
  }
 ],
 "metadata": {
  "kernelspec": {
   "display_name": ".venv",
   "language": "python",
   "name": "python3"
  },
  "language_info": {
   "codemirror_mode": {
    "name": "ipython",
    "version": 3
   },
   "file_extension": ".py",
   "mimetype": "text/x-python",
   "name": "python",
   "nbconvert_exporter": "python",
   "pygments_lexer": "ipython3",
   "version": "3.13.7"
  }
 },
 "nbformat": 4,
 "nbformat_minor": 5
}
