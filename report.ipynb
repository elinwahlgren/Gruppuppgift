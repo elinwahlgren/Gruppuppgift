{
 "cells": [
  {
   "cell_type": "markdown",
   "id": "8d0f3932",
   "metadata": {},
   "source": [
    "# Ledningens halvårsrapport H1 2024\n",
    "### Rekommendationer  \n",
    "För att motverka den minskade försäljningen i mars föreslås att genomföra en marknadsföringskampanj.  \n",
    "En djupare analys av de kategorier som driver störst intäkt respektive minst intäkt kan visa på åtgärder för förbättringar.\n",
    "\n",
    "### Slutsatser\n",
    "\n",
    "**Vad säljer**  \n",
    "Electronics och Sports driver intäkterna och står för den största delen av försäljningen.  \n",
    "Medan Beauty och Toys har minst intäkter och mindre spridning vilket indikerar en stagnerad marknad.  \n",
    "Topp-3-kategorier är Electronics, Sports och Clothing.\n",
    "\n",
    "**Hur ser en typisk order ut**  \n",
    "Genomsnittlig orderstorlek (AOV) ligger på 1401, med en spridning på 1167.\n",
    "\n",
    "**Var säljer vi**  \n",
    "Intäkterna är störst i Stockholm, följt av Göteborg och Uppsala.  \n",
    "Skillnaderna mellan städerna är små, vilket indikerar en jämn marknadstäckning.\n",
    "\n",
    "**När säljer vi**  \n",
    "Intäkterna varierar något över året, med en tydlig dipp i mars och återhämtning i april–maj, vilket indikerar att det finns en säsongseffekt.\n",
    "\n",
    "**Avvikelseanalys**  \n",
    "Avvikelser analyserades både statistiskt (±2 standardavvikelser från medel) och visuellt med boxplot-diagram.  \n",
    "Det ger en balanserad bild där både ovanliga totaler och extremvärden i fördelningen kan upptäckas.  \n",
    "  \n",
    "Störst spridning per kategori är i Electronics och Sports. Flera extremvärden i dessa kategorier indikerar  \n",
    "att de lockar kunder med större köpkraft och att kategorierna kan innehålla premiumprodukter.\n",
    "\n"
   ]
  },
  {
   "cell_type": "code",
   "execution_count": 1,
   "id": "ea484373",
   "metadata": {},
   "outputs": [],
   "source": [
    "import pandas as pd\n",
    "import numpy as np\n",
    "import matplotlib.pyplot as plt \n",
    "import src.io_utils as io\n",
    "from src.ecommerce import EcommerceAnalyzer \n",
    "import src.metrics as M\n",
    "import src.viz as V  "
   ]
  },
  {
   "cell_type": "code",
   "execution_count": 2,
   "id": "b29ebc5b",
   "metadata": {},
   "outputs": [],
   "source": [
    "df = io.df\n",
    "df_clean = EcommerceAnalyzer(df).clean_df()\n",
    "df_clean_month = EcommerceAnalyzer(df_clean).add_month()"
   ]
  },
  {
   "cell_type": "code",
   "execution_count": 3,
   "id": "4371575d",
   "metadata": {},
   "outputs": [
    {
     "name": "stdout",
     "output_type": "stream",
     "text": [
      "Total intäkt: 3502767\n",
      "Antal sålda enheter: 7463\n"
     ]
    }
   ],
   "source": [
    "print(f\"Total intäkt: {M.total_revenue(df_clean)}\")\n",
    "print(f\"Antal sålda enheter: {M.total_units(df_clean)}\")"
   ]
  },
  {
   "cell_type": "code",
   "execution_count": 16,
   "id": "bf20913f",
   "metadata": {},
   "outputs": [
    {
     "name": "stdout",
     "output_type": "stream",
     "text": [
      "Intäkt per kategori\n"
     ]
    },
    {
     "data": {
      "application/vnd.microsoft.datawrangler.viewer.v0+json": {
       "columns": [
        {
         "name": "index",
         "rawType": "int64",
         "type": "integer"
        },
        {
         "name": "category",
         "rawType": "category",
         "type": "unknown"
        },
        {
         "name": "total_intäkt",
         "rawType": "float64",
         "type": "float"
        }
       ],
       "ref": "429f01d7-b040-4e38-904e-d31115859a5c",
       "rows": [
        [
         "0",
         "Beauty",
         "163054.0"
        ],
        [
         "1",
         "Clothing",
         "586745.0"
        ],
        [
         "2",
         "Electronics",
         "1364228.0"
        ],
        [
         "3",
         "Home",
         "511071.0"
        ],
        [
         "4",
         "Sports",
         "734653.0"
        ],
        [
         "5",
         "Toys",
         "143016.0"
        ]
       ],
       "shape": {
        "columns": 2,
        "rows": 6
       }
      },
      "text/html": [
       "<div>\n",
       "<style scoped>\n",
       "    .dataframe tbody tr th:only-of-type {\n",
       "        vertical-align: middle;\n",
       "    }\n",
       "\n",
       "    .dataframe tbody tr th {\n",
       "        vertical-align: top;\n",
       "    }\n",
       "\n",
       "    .dataframe thead th {\n",
       "        text-align: right;\n",
       "    }\n",
       "</style>\n",
       "<table border=\"1\" class=\"dataframe\">\n",
       "  <thead>\n",
       "    <tr style=\"text-align: right;\">\n",
       "      <th></th>\n",
       "      <th>category</th>\n",
       "      <th>total_intäkt</th>\n",
       "    </tr>\n",
       "  </thead>\n",
       "  <tbody>\n",
       "    <tr>\n",
       "      <th>0</th>\n",
       "      <td>Beauty</td>\n",
       "      <td>163054.0</td>\n",
       "    </tr>\n",
       "    <tr>\n",
       "      <th>1</th>\n",
       "      <td>Clothing</td>\n",
       "      <td>586745.0</td>\n",
       "    </tr>\n",
       "    <tr>\n",
       "      <th>2</th>\n",
       "      <td>Electronics</td>\n",
       "      <td>1364228.0</td>\n",
       "    </tr>\n",
       "    <tr>\n",
       "      <th>3</th>\n",
       "      <td>Home</td>\n",
       "      <td>511071.0</td>\n",
       "    </tr>\n",
       "    <tr>\n",
       "      <th>4</th>\n",
       "      <td>Sports</td>\n",
       "      <td>734653.0</td>\n",
       "    </tr>\n",
       "    <tr>\n",
       "      <th>5</th>\n",
       "      <td>Toys</td>\n",
       "      <td>143016.0</td>\n",
       "    </tr>\n",
       "  </tbody>\n",
       "</table>\n",
       "</div>"
      ],
      "text/plain": [
       "      category  total_intäkt\n",
       "0       Beauty      163054.0\n",
       "1     Clothing      586745.0\n",
       "2  Electronics     1364228.0\n",
       "3         Home      511071.0\n",
       "4       Sports      734653.0\n",
       "5         Toys      143016.0"
      ]
     },
     "execution_count": 16,
     "metadata": {},
     "output_type": "execute_result"
    }
   ],
   "source": [
    "print(\"Intäkt per kategori\") \n",
    "M.revenue_per_category(df_clean)"
   ]
  },
  {
   "cell_type": "code",
   "execution_count": 17,
   "id": "720e62e9",
   "metadata": {},
   "outputs": [
    {
     "name": "stdout",
     "output_type": "stream",
     "text": [
      "Top 3 intäkt per kategori\n"
     ]
    },
    {
     "data": {
      "application/vnd.microsoft.datawrangler.viewer.v0+json": {
       "columns": [
        {
         "name": "category",
         "rawType": "category",
         "type": "unknown"
        },
        {
         "name": "revenue",
         "rawType": "int64",
         "type": "integer"
        }
       ],
       "ref": "e8e536c7-b67e-4631-860e-68f9270c46d8",
       "rows": [
        [
         "Electronics",
         "1364228"
        ],
        [
         "Sports",
         "734653"
        ],
        [
         "Clothing",
         "586745"
        ]
       ],
       "shape": {
        "columns": 1,
        "rows": 3
       }
      },
      "text/plain": [
       "category\n",
       "Electronics    1364228\n",
       "Sports          734653\n",
       "Clothing        586745\n",
       "Name: revenue, dtype: int64"
      ]
     },
     "execution_count": 17,
     "metadata": {},
     "output_type": "execute_result"
    }
   ],
   "source": [
    "print(\"Top 3 intäkt per kategori\") \n",
    "M.top_categories(df_clean)"
   ]
  },
  {
   "cell_type": "code",
   "execution_count": 6,
   "id": "9f624f08",
   "metadata": {},
   "outputs": [
    {
     "name": "stdout",
     "output_type": "stream",
     "text": [
      "Average order value (AOV): 1401 \n",
      "AOV standardavvikelse: 1167\n"
     ]
    }
   ],
   "source": [
    "print(f\"Average order value (AOV): {M.aov(df_clean):.0f} \\nAOV standardavvikelse: {M.aov_varians(df_clean):.0f}\")"
   ]
  },
  {
   "cell_type": "code",
   "execution_count": 7,
   "id": "fa8ceeae",
   "metadata": {},
   "outputs": [
    {
     "name": "stdout",
     "output_type": "stream",
     "text": [
      "Total intäkt per stad\n"
     ]
    },
    {
     "data": {
      "application/vnd.microsoft.datawrangler.viewer.v0+json": {
       "columns": [
        {
         "name": "index",
         "rawType": "int64",
         "type": "integer"
        },
        {
         "name": "city",
         "rawType": "category",
         "type": "unknown"
        },
        {
         "name": "total_intäkt",
         "rawType": "float64",
         "type": "float"
        }
       ],
       "ref": "267e76b1-443c-4e64-b733-94b794016cd1",
       "rows": [
        [
         "0",
         "Göteborg",
         "859019.65"
        ],
        [
         "1",
         "Malmö",
         "567926.32"
        ],
        [
         "2",
         "Stockholm",
         "1227201.94"
        ],
        [
         "3",
         "Uppsala",
         "551478.42"
        ],
        [
         "4",
         "Västerås",
         "297140.9"
        ]
       ],
       "shape": {
        "columns": 2,
        "rows": 5
       }
      },
      "text/html": [
       "<div>\n",
       "<style scoped>\n",
       "    .dataframe tbody tr th:only-of-type {\n",
       "        vertical-align: middle;\n",
       "    }\n",
       "\n",
       "    .dataframe tbody tr th {\n",
       "        vertical-align: top;\n",
       "    }\n",
       "\n",
       "    .dataframe thead th {\n",
       "        text-align: right;\n",
       "    }\n",
       "</style>\n",
       "<table border=\"1\" class=\"dataframe\">\n",
       "  <thead>\n",
       "    <tr style=\"text-align: right;\">\n",
       "      <th></th>\n",
       "      <th>city</th>\n",
       "      <th>total_intäkt</th>\n",
       "    </tr>\n",
       "  </thead>\n",
       "  <tbody>\n",
       "    <tr>\n",
       "      <th>0</th>\n",
       "      <td>Göteborg</td>\n",
       "      <td>859019.65</td>\n",
       "    </tr>\n",
       "    <tr>\n",
       "      <th>1</th>\n",
       "      <td>Malmö</td>\n",
       "      <td>567926.32</td>\n",
       "    </tr>\n",
       "    <tr>\n",
       "      <th>2</th>\n",
       "      <td>Stockholm</td>\n",
       "      <td>1227201.94</td>\n",
       "    </tr>\n",
       "    <tr>\n",
       "      <th>3</th>\n",
       "      <td>Uppsala</td>\n",
       "      <td>551478.42</td>\n",
       "    </tr>\n",
       "    <tr>\n",
       "      <th>4</th>\n",
       "      <td>Västerås</td>\n",
       "      <td>297140.90</td>\n",
       "    </tr>\n",
       "  </tbody>\n",
       "</table>\n",
       "</div>"
      ],
      "text/plain": [
       "        city  total_intäkt\n",
       "0   Göteborg     859019.65\n",
       "1      Malmö     567926.32\n",
       "2  Stockholm    1227201.94\n",
       "3    Uppsala     551478.42\n",
       "4   Västerås     297140.90"
      ]
     },
     "execution_count": 7,
     "metadata": {},
     "output_type": "execute_result"
    }
   ],
   "source": [
    "print(\"Total intäkt per stad\") \n",
    "M.revenue_per_city(df_clean)"
   ]
  },
  {
   "cell_type": "code",
   "execution_count": 8,
   "id": "064482dc",
   "metadata": {},
   "outputs": [
    {
     "name": "stdout",
     "output_type": "stream",
     "text": [
      "Total intäkt per månad\n",
      "       month    revenue\n",
      "0 2024-01-01  664083.32\n",
      "1 2024-02-01  548462.03\n",
      "2 2024-03-01  487602.00\n",
      "3 2024-04-01  580194.83\n",
      "4 2024-05-01  632165.16\n",
      "5 2024-06-01  590259.89\n"
     ]
    }
   ],
   "source": [
    "by_month = M.change_over_time(df_clean_month)\n",
    "print(\"Total intäkt per månad\") \n",
    "print (by_month)"
   ]
  },
  {
   "cell_type": "code",
   "execution_count": 9,
   "id": "8251238e",
   "metadata": {},
   "outputs": [
    {
     "name": "stdout",
     "output_type": "stream",
     "text": [
      "Rader med ovanlig revenue:\n"
     ]
    },
    {
     "data": {
      "application/vnd.microsoft.datawrangler.viewer.v0+json": {
       "columns": [
        {
         "name": "index",
         "rawType": "int64",
         "type": "integer"
        },
        {
         "name": "order_id",
         "rawType": "int64",
         "type": "integer"
        },
        {
         "name": "date",
         "rawType": "datetime64[ns]",
         "type": "datetime"
        },
        {
         "name": "city",
         "rawType": "category",
         "type": "unknown"
        },
        {
         "name": "category",
         "rawType": "category",
         "type": "unknown"
        },
        {
         "name": "price",
         "rawType": "float64",
         "type": "float"
        },
        {
         "name": "units",
         "rawType": "int64",
         "type": "integer"
        },
        {
         "name": "revenue",
         "rawType": "float64",
         "type": "float"
        }
       ],
       "ref": "9784466c-dee1-4a4a-a40a-e92efe1dc3e2",
       "rows": [
        [
         "45",
         "100045",
         "2024-06-17 00:00:00",
         "Västerås",
         "Sports",
         "1052.08",
         "6",
         "6312.48"
        ],
        [
         "53",
         "100053",
         "2024-05-18 00:00:00",
         "Stockholm",
         "Electronics",
         "1033.02",
         "4",
         "4132.08"
        ],
        [
         "57",
         "100057",
         "2024-06-04 00:00:00",
         "Malmö",
         "Electronics",
         "1393.58",
         "3",
         "4180.74"
        ],
        [
         "68",
         "100068",
         "2024-02-13 00:00:00",
         "Göteborg",
         "Electronics",
         "1003.34",
         "5",
         "5016.7"
        ],
        [
         "72",
         "100072",
         "2024-02-26 00:00:00",
         "Stockholm",
         "Electronics",
         "968.62",
         "6",
         "5811.72"
        ]
       ],
       "shape": {
        "columns": 7,
        "rows": 5
       }
      },
      "text/html": [
       "<div>\n",
       "<style scoped>\n",
       "    .dataframe tbody tr th:only-of-type {\n",
       "        vertical-align: middle;\n",
       "    }\n",
       "\n",
       "    .dataframe tbody tr th {\n",
       "        vertical-align: top;\n",
       "    }\n",
       "\n",
       "    .dataframe thead th {\n",
       "        text-align: right;\n",
       "    }\n",
       "</style>\n",
       "<table border=\"1\" class=\"dataframe\">\n",
       "  <thead>\n",
       "    <tr style=\"text-align: right;\">\n",
       "      <th></th>\n",
       "      <th>order_id</th>\n",
       "      <th>date</th>\n",
       "      <th>city</th>\n",
       "      <th>category</th>\n",
       "      <th>price</th>\n",
       "      <th>units</th>\n",
       "      <th>revenue</th>\n",
       "    </tr>\n",
       "  </thead>\n",
       "  <tbody>\n",
       "    <tr>\n",
       "      <th>45</th>\n",
       "      <td>100045</td>\n",
       "      <td>2024-06-17</td>\n",
       "      <td>Västerås</td>\n",
       "      <td>Sports</td>\n",
       "      <td>1052.08</td>\n",
       "      <td>6</td>\n",
       "      <td>6312.48</td>\n",
       "    </tr>\n",
       "    <tr>\n",
       "      <th>53</th>\n",
       "      <td>100053</td>\n",
       "      <td>2024-05-18</td>\n",
       "      <td>Stockholm</td>\n",
       "      <td>Electronics</td>\n",
       "      <td>1033.02</td>\n",
       "      <td>4</td>\n",
       "      <td>4132.08</td>\n",
       "    </tr>\n",
       "    <tr>\n",
       "      <th>57</th>\n",
       "      <td>100057</td>\n",
       "      <td>2024-06-04</td>\n",
       "      <td>Malmö</td>\n",
       "      <td>Electronics</td>\n",
       "      <td>1393.58</td>\n",
       "      <td>3</td>\n",
       "      <td>4180.74</td>\n",
       "    </tr>\n",
       "    <tr>\n",
       "      <th>68</th>\n",
       "      <td>100068</td>\n",
       "      <td>2024-02-13</td>\n",
       "      <td>Göteborg</td>\n",
       "      <td>Electronics</td>\n",
       "      <td>1003.34</td>\n",
       "      <td>5</td>\n",
       "      <td>5016.70</td>\n",
       "    </tr>\n",
       "    <tr>\n",
       "      <th>72</th>\n",
       "      <td>100072</td>\n",
       "      <td>2024-02-26</td>\n",
       "      <td>Stockholm</td>\n",
       "      <td>Electronics</td>\n",
       "      <td>968.62</td>\n",
       "      <td>6</td>\n",
       "      <td>5811.72</td>\n",
       "    </tr>\n",
       "  </tbody>\n",
       "</table>\n",
       "</div>"
      ],
      "text/plain": [
       "    order_id       date       city     category    price  units  revenue\n",
       "45    100045 2024-06-17   Västerås       Sports  1052.08      6  6312.48\n",
       "53    100053 2024-05-18  Stockholm  Electronics  1033.02      4  4132.08\n",
       "57    100057 2024-06-04      Malmö  Electronics  1393.58      3  4180.74\n",
       "68    100068 2024-02-13   Göteborg  Electronics  1003.34      5  5016.70\n",
       "72    100072 2024-02-26  Stockholm  Electronics   968.62      6  5811.72"
      ]
     },
     "metadata": {},
     "output_type": "display_data"
    },
    {
     "name": "stdout",
     "output_type": "stream",
     "text": [
      "Kategorier med ovanlig intäkt:\n",
      "Inga kategorier med ovanlig intäkt\n",
      "\n",
      "Städer med ovanlig intäkt:\n",
      "Inga städer med ovanlig intäkt\n"
     ]
    }
   ],
   "source": [
    "revenue_outliers, high_revenue_categories, high_revenue_cities = M.summarize_outliers(df_clean)\n",
    "print(\"Rader med ovanlig revenue:\")\n",
    "display(revenue_outliers.head())\n",
    "\n",
    "print(\"Kategorier med ovanlig intäkt:\")\n",
    "if high_revenue_categories.empty:\n",
    "    print (\"Inga kategorier med ovanlig intäkt\")\n",
    "else:\n",
    "    print(high_revenue_categories)\n",
    "    \n",
    "print(\"\\nStäder med ovanlig intäkt:\") \n",
    "if high_revenue_cities.empty:\n",
    "    print (\"Inga städer med ovanlig intäkt\")\n",
    "else:\n",
    "    print(high_revenue_cities)"
   ]
  },
  {
   "cell_type": "code",
   "execution_count": 10,
   "id": "be1234cc",
   "metadata": {},
   "outputs": [
    {
     "name": "stdout",
     "output_type": "stream",
     "text": [
      "Intäkt per kategori och stad\n"
     ]
    },
    {
     "data": {
      "application/vnd.microsoft.datawrangler.viewer.v0+json": {
       "columns": [
        {
         "name": "category",
         "rawType": "object",
         "type": "string"
        },
        {
         "name": "Göteborg",
         "rawType": "int64",
         "type": "integer"
        },
        {
         "name": "Malmö",
         "rawType": "int64",
         "type": "integer"
        },
        {
         "name": "Stockholm",
         "rawType": "int64",
         "type": "integer"
        },
        {
         "name": "Uppsala",
         "rawType": "int64",
         "type": "integer"
        },
        {
         "name": "Västerås",
         "rawType": "int64",
         "type": "integer"
        },
        {
         "name": "All",
         "rawType": "int64",
         "type": "integer"
        }
       ],
       "ref": "131f3bbb-e41d-45d3-82a3-72973aeddf49",
       "rows": [
        [
         "All",
         "859020",
         "567926",
         "1227202",
         "551478",
         "297141",
         "3502767"
        ],
        [
         "Electronics",
         "340629",
         "234715",
         "457852",
         "236363",
         "94669",
         "1364228"
        ],
        [
         "Sports",
         "173114",
         "123529",
         "292131",
         "92308",
         "53571",
         "734653"
        ],
        [
         "Clothing",
         "128566",
         "77555",
         "206056",
         "102400",
         "72168",
         "586745"
        ],
        [
         "Home",
         "137852",
         "89276",
         "166672",
         "71514",
         "45756",
         "511071"
        ],
        [
         "Beauty",
         "42693",
         "22152",
         "50002",
         "27956",
         "20251",
         "163054"
        ],
        [
         "Toys",
         "36165",
         "20699",
         "54489",
         "20938",
         "10725",
         "143016"
        ]
       ],
       "shape": {
        "columns": 6,
        "rows": 7
       }
      },
      "text/html": [
       "<div>\n",
       "<style scoped>\n",
       "    .dataframe tbody tr th:only-of-type {\n",
       "        vertical-align: middle;\n",
       "    }\n",
       "\n",
       "    .dataframe tbody tr th {\n",
       "        vertical-align: top;\n",
       "    }\n",
       "\n",
       "    .dataframe thead th {\n",
       "        text-align: right;\n",
       "    }\n",
       "</style>\n",
       "<table border=\"1\" class=\"dataframe\">\n",
       "  <thead>\n",
       "    <tr style=\"text-align: right;\">\n",
       "      <th>city</th>\n",
       "      <th>Göteborg</th>\n",
       "      <th>Malmö</th>\n",
       "      <th>Stockholm</th>\n",
       "      <th>Uppsala</th>\n",
       "      <th>Västerås</th>\n",
       "      <th>All</th>\n",
       "    </tr>\n",
       "    <tr>\n",
       "      <th>category</th>\n",
       "      <th></th>\n",
       "      <th></th>\n",
       "      <th></th>\n",
       "      <th></th>\n",
       "      <th></th>\n",
       "      <th></th>\n",
       "    </tr>\n",
       "  </thead>\n",
       "  <tbody>\n",
       "    <tr>\n",
       "      <th>All</th>\n",
       "      <td>859020</td>\n",
       "      <td>567926</td>\n",
       "      <td>1227202</td>\n",
       "      <td>551478</td>\n",
       "      <td>297141</td>\n",
       "      <td>3502767</td>\n",
       "    </tr>\n",
       "    <tr>\n",
       "      <th>Electronics</th>\n",
       "      <td>340629</td>\n",
       "      <td>234715</td>\n",
       "      <td>457852</td>\n",
       "      <td>236363</td>\n",
       "      <td>94669</td>\n",
       "      <td>1364228</td>\n",
       "    </tr>\n",
       "    <tr>\n",
       "      <th>Sports</th>\n",
       "      <td>173114</td>\n",
       "      <td>123529</td>\n",
       "      <td>292131</td>\n",
       "      <td>92308</td>\n",
       "      <td>53571</td>\n",
       "      <td>734653</td>\n",
       "    </tr>\n",
       "    <tr>\n",
       "      <th>Clothing</th>\n",
       "      <td>128566</td>\n",
       "      <td>77555</td>\n",
       "      <td>206056</td>\n",
       "      <td>102400</td>\n",
       "      <td>72168</td>\n",
       "      <td>586745</td>\n",
       "    </tr>\n",
       "    <tr>\n",
       "      <th>Home</th>\n",
       "      <td>137852</td>\n",
       "      <td>89276</td>\n",
       "      <td>166672</td>\n",
       "      <td>71514</td>\n",
       "      <td>45756</td>\n",
       "      <td>511071</td>\n",
       "    </tr>\n",
       "    <tr>\n",
       "      <th>Beauty</th>\n",
       "      <td>42693</td>\n",
       "      <td>22152</td>\n",
       "      <td>50002</td>\n",
       "      <td>27956</td>\n",
       "      <td>20251</td>\n",
       "      <td>163054</td>\n",
       "    </tr>\n",
       "    <tr>\n",
       "      <th>Toys</th>\n",
       "      <td>36165</td>\n",
       "      <td>20699</td>\n",
       "      <td>54489</td>\n",
       "      <td>20938</td>\n",
       "      <td>10725</td>\n",
       "      <td>143016</td>\n",
       "    </tr>\n",
       "  </tbody>\n",
       "</table>\n",
       "</div>"
      ],
      "text/plain": [
       "city         Göteborg   Malmö  Stockholm  Uppsala  Västerås      All\n",
       "category                                                            \n",
       "All            859020  567926    1227202   551478    297141  3502767\n",
       "Electronics    340629  234715     457852   236363     94669  1364228\n",
       "Sports         173114  123529     292131    92308     53571   734653\n",
       "Clothing       128566   77555     206056   102400     72168   586745\n",
       "Home           137852   89276     166672    71514     45756   511071\n",
       "Beauty          42693   22152      50002    27956     20251   163054\n",
       "Toys            36165   20699      54489    20938     10725   143016"
      ]
     },
     "execution_count": 10,
     "metadata": {},
     "output_type": "execute_result"
    }
   ],
   "source": [
    "print(\"Intäkt per kategori och stad\")\n",
    "M.pivot_revenue_by_category_and_city(df_clean).round(0).astype(int)"
   ]
  },
  {
   "cell_type": "code",
   "execution_count": 11,
   "id": "c7a7ecb7",
   "metadata": {},
   "outputs": [
    {
     "data": {
      "image/png": "[encoded data removed]",
      "text/plain": [
       "<Figure size 1400x600 with 2 Axes>"
      ]
     },
     "metadata": {},
     "output_type": "display_data"
    }
   ],
   "source": [
    "fig, axes = plt.subplots(1, 2, figsize=(14, 6))\n",
    "V.bar_top_categories(df_clean, ax=axes[0])\n",
    "V.boxplot_revenue_by_category(df_clean, ax=axes[1])\n",
    "fig.suptitle(\"Intäkt per kategori\", fontsize =14)\n",
    "plt.tight_layout()\n",
    "plt.show()"
   ]
  },
  {
   "cell_type": "markdown",
   "id": "749f0acc",
   "metadata": {},
   "source": [
    "### Intäkt per kategori \n",
    "- **Medelintäkt per kategori** visar att intäkten är störst inom elektronik och att leksaker har den minsta intäkten.\n",
    "- I **Fördelning av intäkt per kategori** ser vi några outliers dessa har ingen större betydelse då vi kan se att felet i **Medelintäkt per kategori** är minimalt. "
   ]
  },
  {
   "cell_type": "code",
   "execution_count": 12,
   "id": "b749e6a3",
   "metadata": {},
   "outputs": [
    {
     "data": {
      "image/png": "[encoded data removed]",
      "text/plain": [
       "<Figure size 1400x600 with 2 Axes>"
      ]
     },
     "metadata": {},
     "output_type": "display_data"
    }
   ],
   "source": [
    "fig, axes = plt.subplots(1, 2, figsize=(14, 6))\n",
    "V.revenue_by_city(df_clean, ax=axes[0])\n",
    "V.boxplot_revenue_by_city(df_clean, ax=axes[1])\n",
    "fig.suptitle(\"Intäkt per stad\", fontsize =14)\n",
    "plt.tight_layout()\n",
    "plt.show()"
   ]
  },
  {
   "cell_type": "markdown",
   "id": "aa73a442",
   "metadata": {},
   "source": [
    "### Intäkt per stad\n",
    "- **Medelintäkt per stad** visar att medelintäkten inte skiljer sig åt mellan städerna. \n",
    "- I **Fördelning av intäkt per stad** ser vi några outliers dessa har ingen större betydelse då vi kan se att felet i **Medelintäkt per stad** är minimalt. "
   ]
  },
  {
   "cell_type": "code",
   "execution_count": 13,
   "id": "3c1604a6",
   "metadata": {},
   "outputs": [
    {
     "data": {
      "text/plain": [
       "<Axes: title={'center': 'Intäkt per månad'}, xlabel='Månad', ylabel='Intäkt'>"
      ]
     },
     "execution_count": 13,
     "metadata": {},
     "output_type": "execute_result"
    },
    {
     "data": {
      "image/png": "[encoded data removed]",
      "text/plain": [
       "<Figure size 1000x400 with 1 Axes>"
      ]
     },
     "metadata": {},
     "output_type": "display_data"
    }
   ],
   "source": [
    "fig, ax = plt.subplots(figsize=(10, 4))\n",
    "V.line(ax, by_month[\"month\"], by_month[\"revenue\"], \"Intäkt per månad\", \"Månad\", \"Intäkt\", grid= True)"
   ]
  },
  {
   "cell_type": "markdown",
   "id": "cfb0cbde",
   "metadata": {},
   "source": [
    "### Intäkt per månad\n",
    "- Diagrammet visar att intäkten varierar mellan månaderna.\n",
    "- Intäkten är störst i januari och minst i mars."
   ]
  }
 ],
 "metadata": {
  "kernelspec": {
   "display_name": ".venv",
   "language": "python",
   "name": "python3"
  },
  "language_info": {
   "codemirror_mode": {
    "name": "ipython",
    "version": 3
   },
   "file_extension": ".py",
   "mimetype": "text/x-python",
   "name": "python",
   "nbconvert_exporter": "python",
   "pygments_lexer": "ipython3",
   "version": "3.13.7"
  }
 },
 "nbformat": 4,
 "nbformat_minor": 5
}
